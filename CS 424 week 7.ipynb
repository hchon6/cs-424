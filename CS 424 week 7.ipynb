{
 "cells": [
  {
   "cell_type": "code",
   "execution_count": 2,
   "metadata": {},
   "outputs": [],
   "source": [
    "Privacy in-class assignment:\n",
    "The person might be a 60 years old lady looking for a retirement home. \n",
    "She lives in Atlanta GA. \n",
    "Her last name is Arnold.\n",
    "She likes dogs and smokes. \n",
    "She is sick."
   ]
  }
 ],
 "metadata": {
  "kernelspec": {
   "display_name": "R",
   "language": "R",
   "name": "ir"
  },
  "language_info": {
   "codemirror_mode": "r",
   "file_extension": ".r",
   "mimetype": "text/x-r-source",
   "name": "R",
   "pygments_lexer": "r",
   "version": "3.6.1"
  }
 },
 "nbformat": 4,
 "nbformat_minor": 2
}
