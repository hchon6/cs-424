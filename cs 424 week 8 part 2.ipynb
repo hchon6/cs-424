{
 "cells": [
  {
   "cell_type": "code",
   "execution_count": 2,
   "metadata": {},
   "outputs": [],
   "source": [
    "library(ggplot2)"
   ]
  },
  {
   "cell_type": "code",
   "execution_count": 9,
   "metadata": {},
   "outputs": [],
   "source": [
    "population <- read.table(file = \"us_state_populations.csv\", sep = \",\", header = FALSE)"
   ]
  },
  {
   "cell_type": "code",
   "execution_count": 10,
   "metadata": {},
   "outputs": [
    {
     "data": {
      "text/html": [
       "<table>\n",
       "<thead><tr><th scope=col>V1</th><th scope=col>V2</th></tr></thead>\n",
       "<tbody>\n",
       "\t<tr><td>Alabama   </td><td> 4849377  </td></tr>\n",
       "\t<tr><td>Alaska    </td><td>  736732  </td></tr>\n",
       "\t<tr><td>Arizona   </td><td> 6731484  </td></tr>\n",
       "\t<tr><td>Arkansas  </td><td> 2966369  </td></tr>\n",
       "\t<tr><td>California</td><td>38802500  </td></tr>\n",
       "\t<tr><td>Colorado  </td><td> 5355866  </td></tr>\n",
       "</tbody>\n",
       "</table>\n"
      ],
      "text/latex": [
       "\\begin{tabular}{r|ll}\n",
       " V1 & V2\\\\\n",
       "\\hline\n",
       "\t Alabama    &  4849377  \\\\\n",
       "\t Alaska     &   736732  \\\\\n",
       "\t Arizona    &  6731484  \\\\\n",
       "\t Arkansas   &  2966369  \\\\\n",
       "\t California & 38802500  \\\\\n",
       "\t Colorado   &  5355866  \\\\\n",
       "\\end{tabular}\n"
      ],
      "text/markdown": [
       "\n",
       "| V1 | V2 |\n",
       "|---|---|\n",
       "| Alabama    |  4849377   |\n",
       "| Alaska     |   736732   |\n",
       "| Arizona    |  6731484   |\n",
       "| Arkansas   |  2966369   |\n",
       "| California | 38802500   |\n",
       "| Colorado   |  5355866   |\n",
       "\n"
      ],
      "text/plain": [
       "  V1         V2      \n",
       "1 Alabama     4849377\n",
       "2 Alaska       736732\n",
       "3 Arizona     6731484\n",
       "4 Arkansas    2966369\n",
       "5 California 38802500\n",
       "6 Colorado    5355866"
      ]
     },
     "metadata": {},
     "output_type": "display_data"
    }
   ],
   "source": [
    "head(population)"
   ]
  },
  {
   "cell_type": "code",
   "execution_count": 12,
   "metadata": {},
   "outputs": [],
   "source": [
    "names(population) <- c(\"Name\",\"Size\")"
   ]
  },
  {
   "cell_type": "code",
   "execution_count": 13,
   "metadata": {},
   "outputs": [
    {
     "data": {
      "text/html": [
       "<table>\n",
       "<thead><tr><th scope=col>Name</th><th scope=col>Size</th></tr></thead>\n",
       "<tbody>\n",
       "\t<tr><td>Alabama   </td><td> 4849377  </td></tr>\n",
       "\t<tr><td>Alaska    </td><td>  736732  </td></tr>\n",
       "\t<tr><td>Arizona   </td><td> 6731484  </td></tr>\n",
       "\t<tr><td>Arkansas  </td><td> 2966369  </td></tr>\n",
       "\t<tr><td>California</td><td>38802500  </td></tr>\n",
       "\t<tr><td>Colorado  </td><td> 5355866  </td></tr>\n",
       "</tbody>\n",
       "</table>\n"
      ],
      "text/latex": [
       "\\begin{tabular}{r|ll}\n",
       " Name & Size\\\\\n",
       "\\hline\n",
       "\t Alabama    &  4849377  \\\\\n",
       "\t Alaska     &   736732  \\\\\n",
       "\t Arizona    &  6731484  \\\\\n",
       "\t Arkansas   &  2966369  \\\\\n",
       "\t California & 38802500  \\\\\n",
       "\t Colorado   &  5355866  \\\\\n",
       "\\end{tabular}\n"
      ],
      "text/markdown": [
       "\n",
       "| Name | Size |\n",
       "|---|---|\n",
       "| Alabama    |  4849377   |\n",
       "| Alaska     |   736732   |\n",
       "| Arizona    |  6731484   |\n",
       "| Arkansas   |  2966369   |\n",
       "| California | 38802500   |\n",
       "| Colorado   |  5355866   |\n",
       "\n"
      ],
      "text/plain": [
       "  Name       Size    \n",
       "1 Alabama     4849377\n",
       "2 Alaska       736732\n",
       "3 Arizona     6731484\n",
       "4 Arkansas    2966369\n",
       "5 California 38802500\n",
       "6 Colorado    5355866"
      ]
     },
     "metadata": {},
     "output_type": "display_data"
    }
   ],
   "source": [
    "head(population)"
   ]
  },
  {
   "cell_type": "code",
   "execution_count": 15,
   "metadata": {},
   "outputs": [
    {
     "data": {
      "text/html": [
       "6363963.26"
      ],
      "text/latex": [
       "6363963.26"
      ],
      "text/markdown": [
       "6363963.26"
      ],
      "text/plain": [
       "[1] 6363963"
      ]
     },
     "metadata": {},
     "output_type": "display_data"
    }
   ],
   "source": [
    "mean(population$Size)"
   ]
  },
  {
   "cell_type": "code",
   "execution_count": 18,
   "metadata": {},
   "outputs": [
    {
     "data": {
      "text/html": [
       "7150942.37417242"
      ],
      "text/latex": [
       "7150942.37417242"
      ],
      "text/markdown": [
       "7150942.37417242"
      ],
      "text/plain": [
       "[1] 7150942"
      ]
     },
     "metadata": {},
     "output_type": "display_data"
    }
   ],
   "source": [
    "sd(population$Size)"
   ]
  },
  {
   "cell_type": "code",
   "execution_count": 19,
   "metadata": {},
   "outputs": [
    {
     "data": {
      "text/html": [
       "584153"
      ],
      "text/latex": [
       "584153"
      ],
      "text/markdown": [
       "584153"
      ],
      "text/plain": [
       "[1] 584153"
      ]
     },
     "metadata": {},
     "output_type": "display_data"
    }
   ],
   "source": [
    "min(population$Size)"
   ]
  },
  {
   "cell_type": "code",
   "execution_count": 20,
   "metadata": {},
   "outputs": [
    {
     "data": {
      "text/html": [
       "38802500"
      ],
      "text/latex": [
       "38802500"
      ],
      "text/markdown": [
       "38802500"
      ],
      "text/plain": [
       "[1] 38802500"
      ]
     },
     "metadata": {},
     "output_type": "display_data"
    }
   ],
   "source": [
    "max(population$Size)"
   ]
  },
  {
   "cell_type": "code",
   "execution_count": 21,
   "metadata": {},
   "outputs": [
    {
     "data": {
      "text/html": [
       "<ol class=list-inline>\n",
       "\t<li>584153</li>\n",
       "\t<li>38802500</li>\n",
       "</ol>\n"
      ],
      "text/latex": [
       "\\begin{enumerate*}\n",
       "\\item 584153\n",
       "\\item 38802500\n",
       "\\end{enumerate*}\n"
      ],
      "text/markdown": [
       "1. 584153\n",
       "2. 38802500\n",
       "\n",
       "\n"
      ],
      "text/plain": [
       "[1]   584153 38802500"
      ]
     },
     "metadata": {},
     "output_type": "display_data"
    }
   ],
   "source": [
    "range(population$Size)"
   ]
  },
  {
   "cell_type": "code",
   "execution_count": 22,
   "metadata": {},
   "outputs": [
    {
     "data": {
      "text/plain": [
       "         Name         Size         \n",
       " Alabama   : 1   Min.   :  584153  \n",
       " Alaska    : 1   1st Qu.: 1858120  \n",
       " Arizona   : 1   Median : 4531566  \n",
       " Arkansas  : 1   Mean   : 6363963  \n",
       " California: 1   3rd Qu.: 6982500  \n",
       " Colorado  : 1   Max.   :38802500  \n",
       " (Other)   :44                     "
      ]
     },
     "metadata": {},
     "output_type": "display_data"
    }
   ],
   "source": [
    "summary(population)"
   ]
  },
  {
   "cell_type": "code",
   "execution_count": 23,
   "metadata": {},
   "outputs": [
    {
     "data": {
      "text/plain": [
       "    Min.  1st Qu.   Median     Mean  3rd Qu.     Max. \n",
       "  584153  1858120  4531566  6363963  6982500 38802500 "
      ]
     },
     "metadata": {},
     "output_type": "display_data"
    }
   ],
   "source": [
    "summary(population$Size)"
   ]
  },
  {
   "cell_type": "code",
   "execution_count": 54,
   "metadata": {},
   "outputs": [
    {
     "data": {
      "text/html": [
       "<dl class=dl-horizontal>\n",
       "\t<dt>0%</dt>\n",
       "\t\t<dd>584153</dd>\n",
       "\t<dt>25%</dt>\n",
       "\t\t<dd>1858120.25</dd>\n",
       "\t<dt>50%</dt>\n",
       "\t\t<dd>4531566.5</dd>\n",
       "\t<dt>75%</dt>\n",
       "\t\t<dd>6982499.5</dd>\n",
       "\t<dt>100%</dt>\n",
       "\t\t<dd>38802500</dd>\n",
       "</dl>\n"
      ],
      "text/latex": [
       "\\begin{description*}\n",
       "\\item[0\\textbackslash{}\\%] 584153\n",
       "\\item[25\\textbackslash{}\\%] 1858120.25\n",
       "\\item[50\\textbackslash{}\\%] 4531566.5\n",
       "\\item[75\\textbackslash{}\\%] 6982499.5\n",
       "\\item[100\\textbackslash{}\\%] 38802500\n",
       "\\end{description*}\n"
      ],
      "text/markdown": [
       "0%\n",
       ":   58415325%\n",
       ":   1858120.2550%\n",
       ":   4531566.575%\n",
       ":   6982499.5100%\n",
       ":   38802500\n",
       "\n"
      ],
      "text/plain": [
       "      0%      25%      50%      75%     100% \n",
       "  584153  1858120  4531567  6982500 38802500 "
      ]
     },
     "metadata": {},
     "output_type": "display_data"
    }
   ],
   "source": [
    "quantile(population$Size)"
   ]
  },
  {
   "cell_type": "code",
   "execution_count": 42,
   "metadata": {},
   "outputs": [
    {
     "name": "stderr",
     "output_type": "stream",
     "text": [
      "Installing package into 'C:/Users/hocho/OneDrive/Documents/R/win-library/3.6'\n",
      "(as 'lib' is unspecified)\n"
     ]
    },
    {
     "name": "stdout",
     "output_type": "stream",
     "text": [
      "package 'remotes' successfully unpacked and MD5 sums checked\n",
      "\n",
      "The downloaded binary packages are in\n",
      "\tC:\\Users\\hocho\\AppData\\Local\\Temp\\RtmpQZQmLD\\downloaded_packages\n"
     ]
    },
    {
     "name": "stderr",
     "output_type": "stream",
     "text": [
      "Downloading GitHub repo hrbrmstr/albersusa@master\n"
     ]
    },
    {
     "name": "stdout",
     "output_type": "stream",
     "text": [
      "sp    (1.3-2 -> 1.4-1) [CRAN]\n",
      "rgdal (NA    -> 1.4-8) [CRAN]\n",
      "DBI   (1.0.0 -> 1.1.0) [CRAN]\n"
     ]
    },
    {
     "name": "stderr",
     "output_type": "stream",
     "text": [
      "Installing 3 packages: sp, rgdal, DBI\n",
      "Installing packages into 'C:/Users/hocho/OneDrive/Documents/R/win-library/3.6'\n",
      "(as 'lib' is unspecified)\n"
     ]
    },
    {
     "name": "stdout",
     "output_type": "stream",
     "text": [
      "package 'sp' successfully unpacked and MD5 sums checked\n",
      "package 'rgdal' successfully unpacked and MD5 sums checked\n",
      "package 'DBI' successfully unpacked and MD5 sums checked\n",
      "\n",
      "The downloaded binary packages are in\n",
      "\tC:\\Users\\hocho\\AppData\\Local\\Temp\\RtmpQZQmLD\\downloaded_packages\n"
     ]
    },
    {
     "name": "stderr",
     "output_type": "stream",
     "text": [
      "Running `R CMD build`...\n"
     ]
    },
    {
     "name": "stdout",
     "output_type": "stream",
     "text": [
      "* checking for file 'C:\\Users\\hocho\\AppData\\Local\\Temp\\RtmpQZQmLD\\remotes20fc3d2730f9\\hrbrmstr-albersusa-07aa87f/DESCRIPTION' ... OK\n",
      "* preparing 'albersusa':\n",
      "* checking DESCRIPTION meta-information ... OK\n",
      "* checking for LF line-endings in source and make files and shell scripts\n",
      "* checking for empty or unneeded directories\n",
      "* building 'albersusa_0.4.1.tar.gz'\n"
     ]
    },
    {
     "name": "stderr",
     "output_type": "stream",
     "text": [
      "Installing package into 'C:/Users/hocho/OneDrive/Documents/R/win-library/3.6'\n",
      "(as 'lib' is unspecified)\n"
     ]
    }
   ],
   "source": [
    "install.packages(\"remotes\")\n",
    "remotes::install_github(\"hrbrmstr/albersusa\")"
   ]
  },
  {
   "cell_type": "code",
   "execution_count": 44,
   "metadata": {},
   "outputs": [],
   "source": [
    "library(albersusa)"
   ]
  },
  {
   "cell_type": "code",
   "execution_count": 45,
   "metadata": {},
   "outputs": [
    {
     "name": "stderr",
     "output_type": "stream",
     "text": [
      "ERROR while rich displaying an object: Error in loadNamespace(name): there is no package called 'geojsonio'\n",
      "\n",
      "Traceback:\n",
      "1. FUN(X[[i]], ...)\n",
      "2. tryCatch(withCallingHandlers({\n",
      " .     if (!mime %in% names(repr::mime2repr)) \n",
      " .         stop(\"No repr_* for mimetype \", mime, \" in repr::mime2repr\")\n",
      " .     rpr <- repr::mime2repr[[mime]](obj)\n",
      " .     if (is.null(rpr)) \n",
      " .         return(NULL)\n",
      " .     prepare_content(is.raw(rpr), rpr)\n",
      " . }, error = error_handler), error = outer_handler)\n",
      "3. tryCatchList(expr, classes, parentenv, handlers)\n",
      "4. tryCatchOne(expr, names, parentenv, handlers[[1L]])\n",
      "5. doTryCatch(return(expr), name, parentenv, handler)\n",
      "6. withCallingHandlers({\n",
      " .     if (!mime %in% names(repr::mime2repr)) \n",
      " .         stop(\"No repr_* for mimetype \", mime, \" in repr::mime2repr\")\n",
      " .     rpr <- repr::mime2repr[[mime]](obj)\n",
      " .     if (is.null(rpr)) \n",
      " .         return(NULL)\n",
      " .     prepare_content(is.raw(rpr), rpr)\n",
      " . }, error = error_handler)\n",
      "7. repr::mime2repr[[mime]](obj)\n",
      "8. repr_geojson.sf(obj)\n",
      "9. repr_geojson(geojsonio::geojson_list(obj), ...)\n",
      "10. geojsonio::geojson_list\n",
      "11. getExportedValue(pkg, name)\n",
      "12. asNamespace(ns)\n",
      "13. getNamespace(ns)\n",
      "14. loadNamespace(name)\n",
      "15. withRestarts(stop(cond), retry_loadNamespace = function() NULL)\n",
      "16. withOneRestart(expr, restarts[[1L]])\n",
      "17. doWithOneRestart(return(expr), restart)\n"
     ]
    },
    {
     "data": {
      "text/html": [
       "<table>\n",
       "<thead><tr><th scope=col>geo_id</th><th scope=col>fips_state</th><th scope=col>name</th><th scope=col>lsad</th><th scope=col>census_area</th><th scope=col>iso_3166_2</th><th scope=col>census</th><th scope=col>pop_estimataes_base</th><th scope=col>pop_2010</th><th scope=col>pop_2011</th><th scope=col>pop_2012</th><th scope=col>pop_2013</th><th scope=col>pop_2014</th><th scope=col>geometry</th></tr></thead>\n",
       "<tbody>\n",
       "\t<tr><td>0400000US04                   </td><td>04                            </td><td>Arizona                       </td><td>                              </td><td>113594                        </td><td>AZ                            </td><td> 6392017                      </td><td> 6392310                      </td><td> 6411999                      </td><td> 6472867                      </td><td> 6556236                      </td><td> 6634997                      </td><td> 6731484                      </td><td>MULTIPOLYGON (((-113 37, -1...</td></tr>\n",
       "\t<tr><td>0400000US05                   </td><td>05                            </td><td>Arkansas                      </td><td>                              </td><td> 52035                        </td><td>AR                            </td><td> 2915918                      </td><td> 2915958                      </td><td> 2922297                      </td><td> 2938430                      </td><td> 2949300                      </td><td> 2958765                      </td><td> 2966369                      </td><td>MULTIPOLYGON (((-94 33, -94...</td></tr>\n",
       "\t<tr><td>0400000US06                   </td><td>06                            </td><td>California                    </td><td>                              </td><td>155779                        </td><td>CA                            </td><td>37253956                      </td><td>37254503                      </td><td>37336011                      </td><td>37701901                      </td><td>38062780                      </td><td>38431393                      </td><td>38802500                      </td><td>MULTIPOLYGON (((-120 34, -1...</td></tr>\n",
       "\t<tr><td>0400000US08                   </td><td>08                            </td><td>Colorado                      </td><td>                              </td><td>103642                        </td><td>CO                            </td><td> 5029196                      </td><td> 5029324                      </td><td> 5048575                      </td><td> 5119661                      </td><td> 5191709                      </td><td> 5272086                      </td><td> 5355866                      </td><td>MULTIPOLYGON (((-107 41, -1...</td></tr>\n",
       "\t<tr><td>0400000US09                   </td><td>09                            </td><td>Connecticut                   </td><td>                              </td><td>  4842                        </td><td>CT                            </td><td> 3574097                      </td><td> 3574096                      </td><td> 3579345                      </td><td> 3590537                      </td><td> 3594362                      </td><td> 3599341                      </td><td> 3596677                      </td><td>MULTIPOLYGON (((-72.4 42, -...</td></tr>\n",
       "\t<tr><td>0400000US11                   </td><td>11                            </td><td>District of Columbia          </td><td>                              </td><td>    61                        </td><td>DC                            </td><td>  601723                      </td><td>  601767                      </td><td>  605210                      </td><td>  620427                      </td><td>  635040                      </td><td>  649111                      </td><td>  658893                      </td><td>MULTIPOLYGON (((-77 38.8, -...</td></tr>\n",
       "\t<tr><td>0400000US13                   </td><td>13                            </td><td>Georgia                       </td><td>                              </td><td> 57513                        </td><td>GA                            </td><td> 9687653                      </td><td> 9688681                      </td><td> 9714464                      </td><td> 9813201                      </td><td> 9919000                      </td><td> 9994759                      </td><td>10097343                      </td><td>MULTIPOLYGON (((-84.8 35, -...</td></tr>\n",
       "\t<tr><td>0400000US17                   </td><td>17                            </td><td>Illinois                      </td><td>                              </td><td> 55519                        </td><td>IL                            </td><td>12830632                      </td><td>12831587                      </td><td>12840097                      </td><td>12858725                      </td><td>12873763                      </td><td>12890552                      </td><td>12880580                      </td><td>MULTIPOLYGON (((-89.4 42.5,...</td></tr>\n",
       "\t<tr><td>0400000US18                   </td><td>18                            </td><td>Indiana                       </td><td>                              </td><td> 35826                        </td><td>IN                            </td><td> 6483802                      </td><td> 6484192                      </td><td> 6490308                      </td><td> 6516560                      </td><td> 6537632                      </td><td> 6570713                      </td><td> 6596855                      </td><td>MULTIPOLYGON (((-84.8 40.4,...</td></tr>\n",
       "\t<tr><td>0400000US22                   </td><td>22                            </td><td>Louisiana                     </td><td>                              </td><td> 43204                        </td><td>LA                            </td><td> 4533372                      </td><td> 4533479                      </td><td> 4545581                      </td><td> 4575972                      </td><td> 4604744                      </td><td> 4629284                      </td><td> 4649676                      </td><td>MULTIPOLYGON (((-88.9 29.8,...</td></tr>\n",
       "\t<tr><td>0400000US27                   </td><td>27                            </td><td>Minnesota                     </td><td>                              </td><td> 79627                        </td><td>MN                            </td><td> 5303925                      </td><td> 5303925                      </td><td> 5310418                      </td><td> 5348036                      </td><td> 5380615                      </td><td> 5422060                      </td><td> 5457173                      </td><td>MULTIPOLYGON (((-92.2 46.7,...</td></tr>\n",
       "\t<tr><td>0400000US28                   </td><td>28                            </td><td>Mississippi                   </td><td>                              </td><td> 46923                        </td><td>MS                            </td><td> 2967297                      </td><td> 2968103                      </td><td> 2970811                      </td><td> 2978464                      </td><td> 2986137                      </td><td> 2992206                      </td><td> 2994079                      </td><td>MULTIPOLYGON (((-89.1 30.2,...</td></tr>\n",
       "\t<tr><td>0400000US30                   </td><td>30                            </td><td>Montana                       </td><td>                              </td><td>145546                        </td><td>MT                            </td><td>  989415                      </td><td>  989417                      </td><td>  990575                      </td><td>  997661                      </td><td> 1005163                      </td><td> 1014864                      </td><td> 1023579                      </td><td>MULTIPOLYGON (((-111 45, -1...</td></tr>\n",
       "\t<tr><td>0400000US35                   </td><td>35                            </td><td>New Mexico                    </td><td>                              </td><td>121298                        </td><td>NM                            </td><td> 2059179                      </td><td> 2059192                      </td><td> 2064950                      </td><td> 2078407                      </td><td> 2084594                      </td><td> 2086895                      </td><td> 2085572                      </td><td>MULTIPOLYGON (((-106 32, -1...</td></tr>\n",
       "\t<tr><td>0400000US38                   </td><td>38                            </td><td>North Dakota                  </td><td>                              </td><td> 69001                        </td><td>ND                            </td><td>  672591                      </td><td>  672591                      </td><td>  674345                      </td><td>  685242                      </td><td>  701705                      </td><td>  723857                      </td><td>  739482                      </td><td>MULTIPOLYGON (((-101 45.9, ...</td></tr>\n",
       "\t<tr><td>0400000US40                   </td><td>40                            </td><td>Oklahoma                      </td><td>                              </td><td> 68595                        </td><td>OK                            </td><td> 3751351                      </td><td> 3751616                      </td><td> 3759481                      </td><td> 3786527                      </td><td> 3817059                      </td><td> 3853118                      </td><td> 3878051                      </td><td>MULTIPOLYGON (((-100 34.7, ...</td></tr>\n",
       "\t<tr><td>0400000US42                   </td><td>42                            </td><td>Pennsylvania                  </td><td>                              </td><td> 44743                        </td><td>PA                            </td><td>12702379                      </td><td>12702884                      </td><td>12711077                      </td><td>12743995                      </td><td>12770043                      </td><td>12781296                      </td><td>12787209                      </td><td>MULTIPOLYGON (((-79.5 39.7,...</td></tr>\n",
       "\t<tr><td>0400000US47                   </td><td>47                            </td><td>Tennessee                     </td><td>                              </td><td> 41235                        </td><td>TN                            </td><td> 6346105                      </td><td> 6346275                      </td><td> 6356628                      </td><td> 6398389                      </td><td> 6455177                      </td><td> 6497269                      </td><td> 6549352                      </td><td>MULTIPOLYGON (((-83.5 36.6,...</td></tr>\n",
       "\t<tr><td>0400000US51                   </td><td>51                            </td><td>Virginia                      </td><td>                              </td><td> 39490                        </td><td>VA                            </td><td> 8001024                      </td><td> 8001023                      </td><td> 8025376                      </td><td> 8110188                      </td><td> 8193422                      </td><td> 8270345                      </td><td> 8326289                      </td><td>MULTIPOLYGON (((-75.2 38, -...</td></tr>\n",
       "\t<tr><td>0400000US10                   </td><td>10                            </td><td>Delaware                      </td><td>                              </td><td>  1949                        </td><td>DE                            </td><td>  897934                      </td><td>  897936                      </td><td>  899731                      </td><td>  907829                      </td><td>  916881                      </td><td>  925240                      </td><td>  935614                      </td><td>MULTIPOLYGON (((-75.6 39.6,...</td></tr>\n",
       "\t<tr><td>0400000US54                   </td><td>54                            </td><td>West Virginia                 </td><td>                              </td><td> 24038                        </td><td>WV                            </td><td> 1852994                      </td><td> 1853033                      </td><td> 1854176                      </td><td> 1854982                      </td><td> 1856313                      </td><td> 1853595                      </td><td> 1850326                      </td><td>MULTIPOLYGON (((-78.6 39, -...</td></tr>\n",
       "\t<tr><td>0400000US55                   </td><td>55                            </td><td>Wisconsin                     </td><td>                              </td><td> 54158                        </td><td>WI                            </td><td> 5686986                      </td><td> 5687289                      </td><td> 5689268                      </td><td> 5708785                      </td><td> 5724888                      </td><td> 5742953                      </td><td> 5757564                      </td><td>MULTIPOLYGON (((-90.5 47, -...</td></tr>\n",
       "\t<tr><td>0400000US56                   </td><td>56                            </td><td>Wyoming                       </td><td>                              </td><td> 97093                        </td><td>WY                            </td><td>  563626                      </td><td>  563767                      </td><td>  564358                      </td><td>  567631                      </td><td>  576893                      </td><td>  583223                      </td><td>  584153                      </td><td>MULTIPOLYGON (((-104 43.9, ...</td></tr>\n",
       "\t<tr><td>0400000US01                   </td><td>01                            </td><td>Alabama                       </td><td>                              </td><td> 50645                        </td><td>AL                            </td><td> 4779736                      </td><td> 4780127                      </td><td> 4785822                      </td><td> 4801695                      </td><td> 4817484                      </td><td> 4833996                      </td><td> 4849377                      </td><td>MULTIPOLYGON (((-88.1 30.3,...</td></tr>\n",
       "\t<tr><td>0400000US12                   </td><td>12                            </td><td>Florida                       </td><td>                              </td><td> 53625                        </td><td>FL                            </td><td>18801310                      </td><td>18804623                      </td><td>18852220                      </td><td>19107900                      </td><td>19355257                      </td><td>19600311                      </td><td>19893297                      </td><td>MULTIPOLYGON (((-80.3 25.3,...</td></tr>\n",
       "\t<tr><td>0400000US16                   </td><td>16                            </td><td>Idaho                         </td><td>                              </td><td> 82643                        </td><td>ID                            </td><td> 1567582                      </td><td> 1567652                      </td><td> 1570639                      </td><td> 1583780                      </td><td> 1595590                      </td><td> 1612843                      </td><td> 1634464                      </td><td>MULTIPOLYGON (((-111 44.5, ...</td></tr>\n",
       "\t<tr><td>0400000US20                   </td><td>20                            </td><td>Kansas                        </td><td>                              </td><td> 81759                        </td><td>KS                            </td><td> 2853118                      </td><td> 2853132                      </td><td> 2858949                      </td><td> 2869965                      </td><td> 2885966                      </td><td> 2895801                      </td><td> 2904021                      </td><td>MULTIPOLYGON (((-99.5 37, -...</td></tr>\n",
       "\t<tr><td>0400000US24                   </td><td>24                            </td><td>Maryland                      </td><td>                              </td><td>  9707                        </td><td>MD                            </td><td> 5773552                      </td><td> 5773785                      </td><td> 5788101                      </td><td> 5843833                      </td><td> 5891819                      </td><td> 5938737                      </td><td> 5976407                      </td><td>MULTIPOLYGON (((-76 38.1, -...</td></tr>\n",
       "\t<tr><td>0400000US34                   </td><td>34                            </td><td>New Jersey                    </td><td>                              </td><td>  7354                        </td><td>NJ                            </td><td> 8791894                      </td><td> 8791936                      </td><td> 8803580                      </td><td> 8842614                      </td><td> 8876000                      </td><td> 8911502                      </td><td> 8938175                      </td><td>MULTIPOLYGON (((-74.9 40.1,...</td></tr>\n",
       "\t<tr><td>0400000US37                   </td><td>37                            </td><td>North Carolina                </td><td>                              </td><td> 48618                        </td><td>NC                            </td><td> 9535483                      </td><td> 9535691                      </td><td> 9559488                      </td><td> 9651502                      </td><td> 9748181                      </td><td> 9848917                      </td><td> 9943964                      </td><td>MULTIPOLYGON (((-75.8 35.2,...</td></tr>\n",
       "\t<tr><td>0400000US45                   </td><td>45                            </td><td>South Carolina                </td><td>                              </td><td> 30061                        </td><td>SC                            </td><td> 4625364                      </td><td> 4625401                      </td><td> 4636290                      </td><td> 4673054                      </td><td> 4722621                      </td><td> 4771929                      </td><td> 4832482                      </td><td>MULTIPOLYGON (((-82.2 35.2,...</td></tr>\n",
       "\t<tr><td>0400000US53                   </td><td>53                            </td><td>Washington                    </td><td>                              </td><td> 66456                        </td><td>WA                            </td><td> 6724540                      </td><td> 6724543                      </td><td> 6741911                      </td><td> 6822112                      </td><td> 6896325                      </td><td> 6973742                      </td><td> 7061530                      </td><td>MULTIPOLYGON (((-122 47.9, ...</td></tr>\n",
       "\t<tr><td>0400000US50                   </td><td>50                            </td><td>Vermont                       </td><td>                              </td><td>  9217                        </td><td>VT                            </td><td>  625741                      </td><td>  625745                      </td><td>  625792                      </td><td>  626450                      </td><td>  626138                      </td><td>  626855                      </td><td>  626562                      </td><td>MULTIPOLYGON (((-72.5 42.7,...</td></tr>\n",
       "\t<tr><td>0400000US49                   </td><td>49                            </td><td>Utah                          </td><td>                              </td><td> 82170                        </td><td>UT                            </td><td> 2763885                      </td><td> 2763885                      </td><td> 2774346                      </td><td> 2815324                      </td><td> 2855194                      </td><td> 2902787                      </td><td> 2942902                      </td><td>MULTIPOLYGON (((-111 42, -1...</td></tr>\n",
       "\t<tr><td>0400000US19                   </td><td>19                            </td><td>Iowa                          </td><td>                              </td><td> 55857                        </td><td>IA                            </td><td> 3046355                      </td><td> 3046869                      </td><td> 3050295                      </td><td> 3064904                      </td><td> 3075935                      </td><td> 3092341                      </td><td> 3107126                      </td><td>MULTIPOLYGON (((-91.2 43, -...</td></tr>\n",
       "\t<tr><td>0400000US21                   </td><td>21                            </td><td>Kentucky                      </td><td>                              </td><td> 39486                        </td><td>KY                            </td><td> 4339367                      </td><td> 4339349                      </td><td> 4349838                      </td><td> 4370038                      </td><td> 4383465                      </td><td> 4399583                      </td><td> 4413457                      </td><td>MULTIPOLYGON (((-89.5 36.5,...</td></tr>\n",
       "\t<tr><td>0400000US23                   </td><td>23                            </td><td>Maine                         </td><td>                              </td><td> 30843                        </td><td>ME                            </td><td> 1328361                      </td><td> 1328361                      </td><td> 1327361                      </td><td> 1327930                      </td><td> 1328592                      </td><td> 1328702                      </td><td> 1330089                      </td><td>MULTIPOLYGON (((-69.3 43.8,...</td></tr>\n",
       "\t<tr><td>0400000US25                   </td><td>25                            </td><td>Massachusetts                 </td><td>                              </td><td>  7800                        </td><td>MA                            </td><td> 6547629                      </td><td> 6547817                      </td><td> 6564073                      </td><td> 6612270                      </td><td> 6655829                      </td><td> 6708874                      </td><td> 6745408                      </td><td>MULTIPOLYGON (((-70.8 41.6,...</td></tr>\n",
       "\t<tr><td>0400000US26                   </td><td>26                            </td><td>Michigan                      </td><td>                              </td><td> 56539                        </td><td>MI                            </td><td> 9883640                      </td><td> 9884133                      </td><td> 9876498                      </td><td> 9875736                      </td><td> 9884781                      </td><td> 9898193                      </td><td> 9909877                      </td><td>MULTIPOLYGON (((-85.6 45.8,...</td></tr>\n",
       "\t<tr><td>0400000US29                   </td><td>29                            </td><td>Missouri                      </td><td>                              </td><td> 68742                        </td><td>MO                            </td><td> 5988927                      </td><td> 5988923                      </td><td> 5996085                      </td><td> 6010544                      </td><td> 6025281                      </td><td> 6044917                      </td><td> 6063589                      </td><td>MULTIPOLYGON (((-89.5 36.3,...</td></tr>\n",
       "\t<tr><td>0400000US31                   </td><td>31                            </td><td>Nebraska                      </td><td>                              </td><td> 76824                        </td><td>NE                            </td><td> 1826341                      </td><td> 1826341                      </td><td> 1829865                      </td><td> 1842232                      </td><td> 1855487                      </td><td> 1868969                      </td><td> 1881503                      </td><td>MULTIPOLYGON (((-104 41.7, ...</td></tr>\n",
       "\t<tr><td>0400000US32                   </td><td>32                            </td><td>Nevada                        </td><td>                              </td><td>109781                        </td><td>NV                            </td><td> 2700551                      </td><td> 2700692                      </td><td> 2703493                      </td><td> 2718586                      </td><td> 2755245                      </td><td> 2791494                      </td><td> 2839099                      </td><td>MULTIPOLYGON (((-114 40.1, ...</td></tr>\n",
       "\t<tr><td>0400000US33                   </td><td>33                            </td><td>New Hampshire                 </td><td>                              </td><td>  8953                        </td><td>NH                            </td><td> 1316470                      </td><td> 1316466                      </td><td> 1316517                      </td><td> 1318109                      </td><td> 1321297                      </td><td> 1322616                      </td><td> 1326813                      </td><td>MULTIPOLYGON (((-70.8 43.1,...</td></tr>\n",
       "\t<tr><td>0400000US36                   </td><td>36                            </td><td>New York                      </td><td>                              </td><td> 47126                        </td><td>NY                            </td><td>19378102                      </td><td>19378112                      </td><td>19400867                      </td><td>19521745                      </td><td>19607140                      </td><td>19695680                      </td><td>19746227                      </td><td>MULTIPOLYGON (((-73.8 40.9,...</td></tr>\n",
       "\t<tr><td>0400000US39                   </td><td>39                            </td><td>Ohio                          </td><td>                              </td><td> 40861                        </td><td>OH                            </td><td>11536504                      </td><td>11536725                      </td><td>11540070                      </td><td>11544757                      </td><td>11550901                      </td><td>11572005                      </td><td>11594163                      </td><td>MULTIPOLYGON (((-82.7 41.6,...</td></tr>\n",
       "\t<tr><td>0400000US41                   </td><td>41                            </td><td>Oregon                        </td><td>                              </td><td> 95988                        </td><td>OR                            </td><td> 3831074                      </td><td> 3831073                      </td><td> 3837083                      </td><td> 3867644                      </td><td> 3898684                      </td><td> 3928068                      </td><td> 3970239                      </td><td>MULTIPOLYGON (((-122 45.7, ...</td></tr>\n",
       "\t<tr><td>0400000US44                   </td><td>44                            </td><td>Rhode Island                  </td><td>                              </td><td>  1034                        </td><td>RI                            </td><td> 1052567                      </td><td> 1052931                      </td><td> 1053078                      </td><td> 1052020                      </td><td> 1052637                      </td><td> 1053354                      </td><td> 1055173                      </td><td>MULTIPOLYGON (((-71.4 41.5,...</td></tr>\n",
       "\t<tr><td>0400000US46                   </td><td>46                            </td><td>South Dakota                  </td><td>                              </td><td> 75811                        </td><td>SD                            </td><td>  814180                      </td><td>  814191                      </td><td>  816192                      </td><td>  824171                      </td><td>  834504                      </td><td>  845510                      </td><td>  853175                      </td><td>MULTIPOLYGON (((-104 43.9, ...</td></tr>\n",
       "\t<tr><td>0400000US48                   </td><td>48                            </td><td>Texas                         </td><td>                              </td><td>261232                        </td><td>TX                            </td><td>25145561                      </td><td>25146104                      </td><td>25245717                      </td><td>25657477                      </td><td>26094422                      </td><td>26505637                      </td><td>26956958                      </td><td>MULTIPOLYGON (((-96.8 28.1,...</td></tr>\n",
       "\t<tr><td>0400000US02                   </td><td>02                            </td><td>Alaska                        </td><td>                              </td><td>570641                        </td><td>AK                            </td><td>  710231                      </td><td>  710249                      </td><td>  713856                      </td><td>  722572                      </td><td>  731081                      </td><td>  737259                      </td><td>  736732                      </td><td>MULTIPOLYGON (((-114 22.4, ...</td></tr>\n",
       "\t<tr><td>0400000US15                   </td><td>15                            </td><td>Hawaii                        </td><td>                              </td><td>  6423                        </td><td>HI                            </td><td> 1360301                      </td><td> 1360301                      </td><td> 1363950                      </td><td> 1378251                      </td><td> 1392766                      </td><td> 1408987                      </td><td> 1419561                      </td><td>MULTIPOLYGON (((-102 25.4, ...</td></tr>\n",
       "</tbody>\n",
       "</table>\n"
      ],
      "text/latex": [
       "\\begin{tabular}{r|llllllllllllll}\n",
       " geo\\_id & fips\\_state & name & lsad & census\\_area & iso\\_3166\\_2 & census & pop\\_estimataes\\_base & pop\\_2010 & pop\\_2011 & pop\\_2012 & pop\\_2013 & pop\\_2014 & geometry\\\\\n",
       "\\hline\n",
       "\t 0400000US04                    & 04                             & Arizona                        &                                & 113594                         & AZ                             &  6392017                       &  6392310                       &  6411999                       &  6472867                       &  6556236                       &  6634997                       &  6731484                       & MULTIPOLYGON (((-113 37, -1...\\\\\n",
       "\t 0400000US05                    & 05                             & Arkansas                       &                                &  52035                         & AR                             &  2915918                       &  2915958                       &  2922297                       &  2938430                       &  2949300                       &  2958765                       &  2966369                       & MULTIPOLYGON (((-94 33, -94...\\\\\n",
       "\t 0400000US06                    & 06                             & California                     &                                & 155779                         & CA                             & 37253956                       & 37254503                       & 37336011                       & 37701901                       & 38062780                       & 38431393                       & 38802500                       & MULTIPOLYGON (((-120 34, -1...\\\\\n",
       "\t 0400000US08                    & 08                             & Colorado                       &                                & 103642                         & CO                             &  5029196                       &  5029324                       &  5048575                       &  5119661                       &  5191709                       &  5272086                       &  5355866                       & MULTIPOLYGON (((-107 41, -1...\\\\\n",
       "\t 0400000US09                    & 09                             & Connecticut                    &                                &   4842                         & CT                             &  3574097                       &  3574096                       &  3579345                       &  3590537                       &  3594362                       &  3599341                       &  3596677                       & MULTIPOLYGON (((-72.4 42, -...\\\\\n",
       "\t 0400000US11                    & 11                             & District of Columbia           &                                &     61                         & DC                             &   601723                       &   601767                       &   605210                       &   620427                       &   635040                       &   649111                       &   658893                       & MULTIPOLYGON (((-77 38.8, -...\\\\\n",
       "\t 0400000US13                    & 13                             & Georgia                        &                                &  57513                         & GA                             &  9687653                       &  9688681                       &  9714464                       &  9813201                       &  9919000                       &  9994759                       & 10097343                       & MULTIPOLYGON (((-84.8 35, -...\\\\\n",
       "\t 0400000US17                    & 17                             & Illinois                       &                                &  55519                         & IL                             & 12830632                       & 12831587                       & 12840097                       & 12858725                       & 12873763                       & 12890552                       & 12880580                       & MULTIPOLYGON (((-89.4 42.5,...\\\\\n",
       "\t 0400000US18                    & 18                             & Indiana                        &                                &  35826                         & IN                             &  6483802                       &  6484192                       &  6490308                       &  6516560                       &  6537632                       &  6570713                       &  6596855                       & MULTIPOLYGON (((-84.8 40.4,...\\\\\n",
       "\t 0400000US22                    & 22                             & Louisiana                      &                                &  43204                         & LA                             &  4533372                       &  4533479                       &  4545581                       &  4575972                       &  4604744                       &  4629284                       &  4649676                       & MULTIPOLYGON (((-88.9 29.8,...\\\\\n",
       "\t 0400000US27                    & 27                             & Minnesota                      &                                &  79627                         & MN                             &  5303925                       &  5303925                       &  5310418                       &  5348036                       &  5380615                       &  5422060                       &  5457173                       & MULTIPOLYGON (((-92.2 46.7,...\\\\\n",
       "\t 0400000US28                    & 28                             & Mississippi                    &                                &  46923                         & MS                             &  2967297                       &  2968103                       &  2970811                       &  2978464                       &  2986137                       &  2992206                       &  2994079                       & MULTIPOLYGON (((-89.1 30.2,...\\\\\n",
       "\t 0400000US30                    & 30                             & Montana                        &                                & 145546                         & MT                             &   989415                       &   989417                       &   990575                       &   997661                       &  1005163                       &  1014864                       &  1023579                       & MULTIPOLYGON (((-111 45, -1...\\\\\n",
       "\t 0400000US35                    & 35                             & New Mexico                     &                                & 121298                         & NM                             &  2059179                       &  2059192                       &  2064950                       &  2078407                       &  2084594                       &  2086895                       &  2085572                       & MULTIPOLYGON (((-106 32, -1...\\\\\n",
       "\t 0400000US38                    & 38                             & North Dakota                   &                                &  69001                         & ND                             &   672591                       &   672591                       &   674345                       &   685242                       &   701705                       &   723857                       &   739482                       & MULTIPOLYGON (((-101 45.9, ...\\\\\n",
       "\t 0400000US40                    & 40                             & Oklahoma                       &                                &  68595                         & OK                             &  3751351                       &  3751616                       &  3759481                       &  3786527                       &  3817059                       &  3853118                       &  3878051                       & MULTIPOLYGON (((-100 34.7, ...\\\\\n",
       "\t 0400000US42                    & 42                             & Pennsylvania                   &                                &  44743                         & PA                             & 12702379                       & 12702884                       & 12711077                       & 12743995                       & 12770043                       & 12781296                       & 12787209                       & MULTIPOLYGON (((-79.5 39.7,...\\\\\n",
       "\t 0400000US47                    & 47                             & Tennessee                      &                                &  41235                         & TN                             &  6346105                       &  6346275                       &  6356628                       &  6398389                       &  6455177                       &  6497269                       &  6549352                       & MULTIPOLYGON (((-83.5 36.6,...\\\\\n",
       "\t 0400000US51                    & 51                             & Virginia                       &                                &  39490                         & VA                             &  8001024                       &  8001023                       &  8025376                       &  8110188                       &  8193422                       &  8270345                       &  8326289                       & MULTIPOLYGON (((-75.2 38, -...\\\\\n",
       "\t 0400000US10                    & 10                             & Delaware                       &                                &   1949                         & DE                             &   897934                       &   897936                       &   899731                       &   907829                       &   916881                       &   925240                       &   935614                       & MULTIPOLYGON (((-75.6 39.6,...\\\\\n",
       "\t 0400000US54                    & 54                             & West Virginia                  &                                &  24038                         & WV                             &  1852994                       &  1853033                       &  1854176                       &  1854982                       &  1856313                       &  1853595                       &  1850326                       & MULTIPOLYGON (((-78.6 39, -...\\\\\n",
       "\t 0400000US55                    & 55                             & Wisconsin                      &                                &  54158                         & WI                             &  5686986                       &  5687289                       &  5689268                       &  5708785                       &  5724888                       &  5742953                       &  5757564                       & MULTIPOLYGON (((-90.5 47, -...\\\\\n",
       "\t 0400000US56                    & 56                             & Wyoming                        &                                &  97093                         & WY                             &   563626                       &   563767                       &   564358                       &   567631                       &   576893                       &   583223                       &   584153                       & MULTIPOLYGON (((-104 43.9, ...\\\\\n",
       "\t 0400000US01                    & 01                             & Alabama                        &                                &  50645                         & AL                             &  4779736                       &  4780127                       &  4785822                       &  4801695                       &  4817484                       &  4833996                       &  4849377                       & MULTIPOLYGON (((-88.1 30.3,...\\\\\n",
       "\t 0400000US12                    & 12                             & Florida                        &                                &  53625                         & FL                             & 18801310                       & 18804623                       & 18852220                       & 19107900                       & 19355257                       & 19600311                       & 19893297                       & MULTIPOLYGON (((-80.3 25.3,...\\\\\n",
       "\t 0400000US16                    & 16                             & Idaho                          &                                &  82643                         & ID                             &  1567582                       &  1567652                       &  1570639                       &  1583780                       &  1595590                       &  1612843                       &  1634464                       & MULTIPOLYGON (((-111 44.5, ...\\\\\n",
       "\t 0400000US20                    & 20                             & Kansas                         &                                &  81759                         & KS                             &  2853118                       &  2853132                       &  2858949                       &  2869965                       &  2885966                       &  2895801                       &  2904021                       & MULTIPOLYGON (((-99.5 37, -...\\\\\n",
       "\t 0400000US24                    & 24                             & Maryland                       &                                &   9707                         & MD                             &  5773552                       &  5773785                       &  5788101                       &  5843833                       &  5891819                       &  5938737                       &  5976407                       & MULTIPOLYGON (((-76 38.1, -...\\\\\n",
       "\t 0400000US34                    & 34                             & New Jersey                     &                                &   7354                         & NJ                             &  8791894                       &  8791936                       &  8803580                       &  8842614                       &  8876000                       &  8911502                       &  8938175                       & MULTIPOLYGON (((-74.9 40.1,...\\\\\n",
       "\t 0400000US37                    & 37                             & North Carolina                 &                                &  48618                         & NC                             &  9535483                       &  9535691                       &  9559488                       &  9651502                       &  9748181                       &  9848917                       &  9943964                       & MULTIPOLYGON (((-75.8 35.2,...\\\\\n",
       "\t 0400000US45                    & 45                             & South Carolina                 &                                &  30061                         & SC                             &  4625364                       &  4625401                       &  4636290                       &  4673054                       &  4722621                       &  4771929                       &  4832482                       & MULTIPOLYGON (((-82.2 35.2,...\\\\\n",
       "\t 0400000US53                    & 53                             & Washington                     &                                &  66456                         & WA                             &  6724540                       &  6724543                       &  6741911                       &  6822112                       &  6896325                       &  6973742                       &  7061530                       & MULTIPOLYGON (((-122 47.9, ...\\\\\n",
       "\t 0400000US50                    & 50                             & Vermont                        &                                &   9217                         & VT                             &   625741                       &   625745                       &   625792                       &   626450                       &   626138                       &   626855                       &   626562                       & MULTIPOLYGON (((-72.5 42.7,...\\\\\n",
       "\t 0400000US49                    & 49                             & Utah                           &                                &  82170                         & UT                             &  2763885                       &  2763885                       &  2774346                       &  2815324                       &  2855194                       &  2902787                       &  2942902                       & MULTIPOLYGON (((-111 42, -1...\\\\\n",
       "\t 0400000US19                    & 19                             & Iowa                           &                                &  55857                         & IA                             &  3046355                       &  3046869                       &  3050295                       &  3064904                       &  3075935                       &  3092341                       &  3107126                       & MULTIPOLYGON (((-91.2 43, -...\\\\\n",
       "\t 0400000US21                    & 21                             & Kentucky                       &                                &  39486                         & KY                             &  4339367                       &  4339349                       &  4349838                       &  4370038                       &  4383465                       &  4399583                       &  4413457                       & MULTIPOLYGON (((-89.5 36.5,...\\\\\n",
       "\t 0400000US23                    & 23                             & Maine                          &                                &  30843                         & ME                             &  1328361                       &  1328361                       &  1327361                       &  1327930                       &  1328592                       &  1328702                       &  1330089                       & MULTIPOLYGON (((-69.3 43.8,...\\\\\n",
       "\t 0400000US25                    & 25                             & Massachusetts                  &                                &   7800                         & MA                             &  6547629                       &  6547817                       &  6564073                       &  6612270                       &  6655829                       &  6708874                       &  6745408                       & MULTIPOLYGON (((-70.8 41.6,...\\\\\n",
       "\t 0400000US26                    & 26                             & Michigan                       &                                &  56539                         & MI                             &  9883640                       &  9884133                       &  9876498                       &  9875736                       &  9884781                       &  9898193                       &  9909877                       & MULTIPOLYGON (((-85.6 45.8,...\\\\\n",
       "\t 0400000US29                    & 29                             & Missouri                       &                                &  68742                         & MO                             &  5988927                       &  5988923                       &  5996085                       &  6010544                       &  6025281                       &  6044917                       &  6063589                       & MULTIPOLYGON (((-89.5 36.3,...\\\\\n",
       "\t 0400000US31                    & 31                             & Nebraska                       &                                &  76824                         & NE                             &  1826341                       &  1826341                       &  1829865                       &  1842232                       &  1855487                       &  1868969                       &  1881503                       & MULTIPOLYGON (((-104 41.7, ...\\\\\n",
       "\t 0400000US32                    & 32                             & Nevada                         &                                & 109781                         & NV                             &  2700551                       &  2700692                       &  2703493                       &  2718586                       &  2755245                       &  2791494                       &  2839099                       & MULTIPOLYGON (((-114 40.1, ...\\\\\n",
       "\t 0400000US33                    & 33                             & New Hampshire                  &                                &   8953                         & NH                             &  1316470                       &  1316466                       &  1316517                       &  1318109                       &  1321297                       &  1322616                       &  1326813                       & MULTIPOLYGON (((-70.8 43.1,...\\\\\n",
       "\t 0400000US36                    & 36                             & New York                       &                                &  47126                         & NY                             & 19378102                       & 19378112                       & 19400867                       & 19521745                       & 19607140                       & 19695680                       & 19746227                       & MULTIPOLYGON (((-73.8 40.9,...\\\\\n",
       "\t 0400000US39                    & 39                             & Ohio                           &                                &  40861                         & OH                             & 11536504                       & 11536725                       & 11540070                       & 11544757                       & 11550901                       & 11572005                       & 11594163                       & MULTIPOLYGON (((-82.7 41.6,...\\\\\n",
       "\t 0400000US41                    & 41                             & Oregon                         &                                &  95988                         & OR                             &  3831074                       &  3831073                       &  3837083                       &  3867644                       &  3898684                       &  3928068                       &  3970239                       & MULTIPOLYGON (((-122 45.7, ...\\\\\n",
       "\t 0400000US44                    & 44                             & Rhode Island                   &                                &   1034                         & RI                             &  1052567                       &  1052931                       &  1053078                       &  1052020                       &  1052637                       &  1053354                       &  1055173                       & MULTIPOLYGON (((-71.4 41.5,...\\\\\n",
       "\t 0400000US46                    & 46                             & South Dakota                   &                                &  75811                         & SD                             &   814180                       &   814191                       &   816192                       &   824171                       &   834504                       &   845510                       &   853175                       & MULTIPOLYGON (((-104 43.9, ...\\\\\n",
       "\t 0400000US48                    & 48                             & Texas                          &                                & 261232                         & TX                             & 25145561                       & 25146104                       & 25245717                       & 25657477                       & 26094422                       & 26505637                       & 26956958                       & MULTIPOLYGON (((-96.8 28.1,...\\\\\n",
       "\t 0400000US02                    & 02                             & Alaska                         &                                & 570641                         & AK                             &   710231                       &   710249                       &   713856                       &   722572                       &   731081                       &   737259                       &   736732                       & MULTIPOLYGON (((-114 22.4, ...\\\\\n",
       "\t 0400000US15                    & 15                             & Hawaii                         &                                &   6423                         & HI                             &  1360301                       &  1360301                       &  1363950                       &  1378251                       &  1392766                       &  1408987                       &  1419561                       & MULTIPOLYGON (((-102 25.4, ...\\\\\n",
       "\\end{tabular}\n"
      ],
      "text/markdown": [
       "\n",
       "| geo_id | fips_state | name | lsad | census_area | iso_3166_2 | census | pop_estimataes_base | pop_2010 | pop_2011 | pop_2012 | pop_2013 | pop_2014 | geometry |\n",
       "|---|---|---|---|---|---|---|---|---|---|---|---|---|---|\n",
       "| 0400000US04                    | 04                             | Arizona                        |                                | 113594                         | AZ                             |  6392017                       |  6392310                       |  6411999                       |  6472867                       |  6556236                       |  6634997                       |  6731484                       | MULTIPOLYGON (((-113 37, -1... |\n",
       "| 0400000US05                    | 05                             | Arkansas                       |                                |  52035                         | AR                             |  2915918                       |  2915958                       |  2922297                       |  2938430                       |  2949300                       |  2958765                       |  2966369                       | MULTIPOLYGON (((-94 33, -94... |\n",
       "| 0400000US06                    | 06                             | California                     |                                | 155779                         | CA                             | 37253956                       | 37254503                       | 37336011                       | 37701901                       | 38062780                       | 38431393                       | 38802500                       | MULTIPOLYGON (((-120 34, -1... |\n",
       "| 0400000US08                    | 08                             | Colorado                       |                                | 103642                         | CO                             |  5029196                       |  5029324                       |  5048575                       |  5119661                       |  5191709                       |  5272086                       |  5355866                       | MULTIPOLYGON (((-107 41, -1... |\n",
       "| 0400000US09                    | 09                             | Connecticut                    |                                |   4842                         | CT                             |  3574097                       |  3574096                       |  3579345                       |  3590537                       |  3594362                       |  3599341                       |  3596677                       | MULTIPOLYGON (((-72.4 42, -... |\n",
       "| 0400000US11                    | 11                             | District of Columbia           |                                |     61                         | DC                             |   601723                       |   601767                       |   605210                       |   620427                       |   635040                       |   649111                       |   658893                       | MULTIPOLYGON (((-77 38.8, -... |\n",
       "| 0400000US13                    | 13                             | Georgia                        |                                |  57513                         | GA                             |  9687653                       |  9688681                       |  9714464                       |  9813201                       |  9919000                       |  9994759                       | 10097343                       | MULTIPOLYGON (((-84.8 35, -... |\n",
       "| 0400000US17                    | 17                             | Illinois                       |                                |  55519                         | IL                             | 12830632                       | 12831587                       | 12840097                       | 12858725                       | 12873763                       | 12890552                       | 12880580                       | MULTIPOLYGON (((-89.4 42.5,... |\n",
       "| 0400000US18                    | 18                             | Indiana                        |                                |  35826                         | IN                             |  6483802                       |  6484192                       |  6490308                       |  6516560                       |  6537632                       |  6570713                       |  6596855                       | MULTIPOLYGON (((-84.8 40.4,... |\n",
       "| 0400000US22                    | 22                             | Louisiana                      |                                |  43204                         | LA                             |  4533372                       |  4533479                       |  4545581                       |  4575972                       |  4604744                       |  4629284                       |  4649676                       | MULTIPOLYGON (((-88.9 29.8,... |\n",
       "| 0400000US27                    | 27                             | Minnesota                      |                                |  79627                         | MN                             |  5303925                       |  5303925                       |  5310418                       |  5348036                       |  5380615                       |  5422060                       |  5457173                       | MULTIPOLYGON (((-92.2 46.7,... |\n",
       "| 0400000US28                    | 28                             | Mississippi                    |                                |  46923                         | MS                             |  2967297                       |  2968103                       |  2970811                       |  2978464                       |  2986137                       |  2992206                       |  2994079                       | MULTIPOLYGON (((-89.1 30.2,... |\n",
       "| 0400000US30                    | 30                             | Montana                        |                                | 145546                         | MT                             |   989415                       |   989417                       |   990575                       |   997661                       |  1005163                       |  1014864                       |  1023579                       | MULTIPOLYGON (((-111 45, -1... |\n",
       "| 0400000US35                    | 35                             | New Mexico                     |                                | 121298                         | NM                             |  2059179                       |  2059192                       |  2064950                       |  2078407                       |  2084594                       |  2086895                       |  2085572                       | MULTIPOLYGON (((-106 32, -1... |\n",
       "| 0400000US38                    | 38                             | North Dakota                   |                                |  69001                         | ND                             |   672591                       |   672591                       |   674345                       |   685242                       |   701705                       |   723857                       |   739482                       | MULTIPOLYGON (((-101 45.9, ... |\n",
       "| 0400000US40                    | 40                             | Oklahoma                       |                                |  68595                         | OK                             |  3751351                       |  3751616                       |  3759481                       |  3786527                       |  3817059                       |  3853118                       |  3878051                       | MULTIPOLYGON (((-100 34.7, ... |\n",
       "| 0400000US42                    | 42                             | Pennsylvania                   |                                |  44743                         | PA                             | 12702379                       | 12702884                       | 12711077                       | 12743995                       | 12770043                       | 12781296                       | 12787209                       | MULTIPOLYGON (((-79.5 39.7,... |\n",
       "| 0400000US47                    | 47                             | Tennessee                      |                                |  41235                         | TN                             |  6346105                       |  6346275                       |  6356628                       |  6398389                       |  6455177                       |  6497269                       |  6549352                       | MULTIPOLYGON (((-83.5 36.6,... |\n",
       "| 0400000US51                    | 51                             | Virginia                       |                                |  39490                         | VA                             |  8001024                       |  8001023                       |  8025376                       |  8110188                       |  8193422                       |  8270345                       |  8326289                       | MULTIPOLYGON (((-75.2 38, -... |\n",
       "| 0400000US10                    | 10                             | Delaware                       |                                |   1949                         | DE                             |   897934                       |   897936                       |   899731                       |   907829                       |   916881                       |   925240                       |   935614                       | MULTIPOLYGON (((-75.6 39.6,... |\n",
       "| 0400000US54                    | 54                             | West Virginia                  |                                |  24038                         | WV                             |  1852994                       |  1853033                       |  1854176                       |  1854982                       |  1856313                       |  1853595                       |  1850326                       | MULTIPOLYGON (((-78.6 39, -... |\n",
       "| 0400000US55                    | 55                             | Wisconsin                      |                                |  54158                         | WI                             |  5686986                       |  5687289                       |  5689268                       |  5708785                       |  5724888                       |  5742953                       |  5757564                       | MULTIPOLYGON (((-90.5 47, -... |\n",
       "| 0400000US56                    | 56                             | Wyoming                        |                                |  97093                         | WY                             |   563626                       |   563767                       |   564358                       |   567631                       |   576893                       |   583223                       |   584153                       | MULTIPOLYGON (((-104 43.9, ... |\n",
       "| 0400000US01                    | 01                             | Alabama                        |                                |  50645                         | AL                             |  4779736                       |  4780127                       |  4785822                       |  4801695                       |  4817484                       |  4833996                       |  4849377                       | MULTIPOLYGON (((-88.1 30.3,... |\n",
       "| 0400000US12                    | 12                             | Florida                        |                                |  53625                         | FL                             | 18801310                       | 18804623                       | 18852220                       | 19107900                       | 19355257                       | 19600311                       | 19893297                       | MULTIPOLYGON (((-80.3 25.3,... |\n",
       "| 0400000US16                    | 16                             | Idaho                          |                                |  82643                         | ID                             |  1567582                       |  1567652                       |  1570639                       |  1583780                       |  1595590                       |  1612843                       |  1634464                       | MULTIPOLYGON (((-111 44.5, ... |\n",
       "| 0400000US20                    | 20                             | Kansas                         |                                |  81759                         | KS                             |  2853118                       |  2853132                       |  2858949                       |  2869965                       |  2885966                       |  2895801                       |  2904021                       | MULTIPOLYGON (((-99.5 37, -... |\n",
       "| 0400000US24                    | 24                             | Maryland                       |                                |   9707                         | MD                             |  5773552                       |  5773785                       |  5788101                       |  5843833                       |  5891819                       |  5938737                       |  5976407                       | MULTIPOLYGON (((-76 38.1, -... |\n",
       "| 0400000US34                    | 34                             | New Jersey                     |                                |   7354                         | NJ                             |  8791894                       |  8791936                       |  8803580                       |  8842614                       |  8876000                       |  8911502                       |  8938175                       | MULTIPOLYGON (((-74.9 40.1,... |\n",
       "| 0400000US37                    | 37                             | North Carolina                 |                                |  48618                         | NC                             |  9535483                       |  9535691                       |  9559488                       |  9651502                       |  9748181                       |  9848917                       |  9943964                       | MULTIPOLYGON (((-75.8 35.2,... |\n",
       "| 0400000US45                    | 45                             | South Carolina                 |                                |  30061                         | SC                             |  4625364                       |  4625401                       |  4636290                       |  4673054                       |  4722621                       |  4771929                       |  4832482                       | MULTIPOLYGON (((-82.2 35.2,... |\n",
       "| 0400000US53                    | 53                             | Washington                     |                                |  66456                         | WA                             |  6724540                       |  6724543                       |  6741911                       |  6822112                       |  6896325                       |  6973742                       |  7061530                       | MULTIPOLYGON (((-122 47.9, ... |\n",
       "| 0400000US50                    | 50                             | Vermont                        |                                |   9217                         | VT                             |   625741                       |   625745                       |   625792                       |   626450                       |   626138                       |   626855                       |   626562                       | MULTIPOLYGON (((-72.5 42.7,... |\n",
       "| 0400000US49                    | 49                             | Utah                           |                                |  82170                         | UT                             |  2763885                       |  2763885                       |  2774346                       |  2815324                       |  2855194                       |  2902787                       |  2942902                       | MULTIPOLYGON (((-111 42, -1... |\n",
       "| 0400000US19                    | 19                             | Iowa                           |                                |  55857                         | IA                             |  3046355                       |  3046869                       |  3050295                       |  3064904                       |  3075935                       |  3092341                       |  3107126                       | MULTIPOLYGON (((-91.2 43, -... |\n",
       "| 0400000US21                    | 21                             | Kentucky                       |                                |  39486                         | KY                             |  4339367                       |  4339349                       |  4349838                       |  4370038                       |  4383465                       |  4399583                       |  4413457                       | MULTIPOLYGON (((-89.5 36.5,... |\n",
       "| 0400000US23                    | 23                             | Maine                          |                                |  30843                         | ME                             |  1328361                       |  1328361                       |  1327361                       |  1327930                       |  1328592                       |  1328702                       |  1330089                       | MULTIPOLYGON (((-69.3 43.8,... |\n",
       "| 0400000US25                    | 25                             | Massachusetts                  |                                |   7800                         | MA                             |  6547629                       |  6547817                       |  6564073                       |  6612270                       |  6655829                       |  6708874                       |  6745408                       | MULTIPOLYGON (((-70.8 41.6,... |\n",
       "| 0400000US26                    | 26                             | Michigan                       |                                |  56539                         | MI                             |  9883640                       |  9884133                       |  9876498                       |  9875736                       |  9884781                       |  9898193                       |  9909877                       | MULTIPOLYGON (((-85.6 45.8,... |\n",
       "| 0400000US29                    | 29                             | Missouri                       |                                |  68742                         | MO                             |  5988927                       |  5988923                       |  5996085                       |  6010544                       |  6025281                       |  6044917                       |  6063589                       | MULTIPOLYGON (((-89.5 36.3,... |\n",
       "| 0400000US31                    | 31                             | Nebraska                       |                                |  76824                         | NE                             |  1826341                       |  1826341                       |  1829865                       |  1842232                       |  1855487                       |  1868969                       |  1881503                       | MULTIPOLYGON (((-104 41.7, ... |\n",
       "| 0400000US32                    | 32                             | Nevada                         |                                | 109781                         | NV                             |  2700551                       |  2700692                       |  2703493                       |  2718586                       |  2755245                       |  2791494                       |  2839099                       | MULTIPOLYGON (((-114 40.1, ... |\n",
       "| 0400000US33                    | 33                             | New Hampshire                  |                                |   8953                         | NH                             |  1316470                       |  1316466                       |  1316517                       |  1318109                       |  1321297                       |  1322616                       |  1326813                       | MULTIPOLYGON (((-70.8 43.1,... |\n",
       "| 0400000US36                    | 36                             | New York                       |                                |  47126                         | NY                             | 19378102                       | 19378112                       | 19400867                       | 19521745                       | 19607140                       | 19695680                       | 19746227                       | MULTIPOLYGON (((-73.8 40.9,... |\n",
       "| 0400000US39                    | 39                             | Ohio                           |                                |  40861                         | OH                             | 11536504                       | 11536725                       | 11540070                       | 11544757                       | 11550901                       | 11572005                       | 11594163                       | MULTIPOLYGON (((-82.7 41.6,... |\n",
       "| 0400000US41                    | 41                             | Oregon                         |                                |  95988                         | OR                             |  3831074                       |  3831073                       |  3837083                       |  3867644                       |  3898684                       |  3928068                       |  3970239                       | MULTIPOLYGON (((-122 45.7, ... |\n",
       "| 0400000US44                    | 44                             | Rhode Island                   |                                |   1034                         | RI                             |  1052567                       |  1052931                       |  1053078                       |  1052020                       |  1052637                       |  1053354                       |  1055173                       | MULTIPOLYGON (((-71.4 41.5,... |\n",
       "| 0400000US46                    | 46                             | South Dakota                   |                                |  75811                         | SD                             |   814180                       |   814191                       |   816192                       |   824171                       |   834504                       |   845510                       |   853175                       | MULTIPOLYGON (((-104 43.9, ... |\n",
       "| 0400000US48                    | 48                             | Texas                          |                                | 261232                         | TX                             | 25145561                       | 25146104                       | 25245717                       | 25657477                       | 26094422                       | 26505637                       | 26956958                       | MULTIPOLYGON (((-96.8 28.1,... |\n",
       "| 0400000US02                    | 02                             | Alaska                         |                                | 570641                         | AK                             |   710231                       |   710249                       |   713856                       |   722572                       |   731081                       |   737259                       |   736732                       | MULTIPOLYGON (((-114 22.4, ... |\n",
       "| 0400000US15                    | 15                             | Hawaii                         |                                |   6423                         | HI                             |  1360301                       |  1360301                       |  1363950                       |  1378251                       |  1392766                       |  1408987                       |  1419561                       | MULTIPOLYGON (((-102 25.4, ... |\n",
       "\n"
      ],
      "text/plain": [
       "   geo_id      fips_state name                 lsad census_area iso_3166_2\n",
       "1  0400000US04 04         Arizona                   113594      AZ        \n",
       "2  0400000US05 05         Arkansas                   52035      AR        \n",
       "3  0400000US06 06         California                155779      CA        \n",
       "4  0400000US08 08         Colorado                  103642      CO        \n",
       "5  0400000US09 09         Connecticut                 4842      CT        \n",
       "6  0400000US11 11         District of Columbia          61      DC        \n",
       "7  0400000US13 13         Georgia                    57513      GA        \n",
       "8  0400000US17 17         Illinois                   55519      IL        \n",
       "9  0400000US18 18         Indiana                    35826      IN        \n",
       "10 0400000US22 22         Louisiana                  43204      LA        \n",
       "11 0400000US27 27         Minnesota                  79627      MN        \n",
       "12 0400000US28 28         Mississippi                46923      MS        \n",
       "13 0400000US30 30         Montana                   145546      MT        \n",
       "14 0400000US35 35         New Mexico                121298      NM        \n",
       "15 0400000US38 38         North Dakota               69001      ND        \n",
       "16 0400000US40 40         Oklahoma                   68595      OK        \n",
       "17 0400000US42 42         Pennsylvania               44743      PA        \n",
       "18 0400000US47 47         Tennessee                  41235      TN        \n",
       "19 0400000US51 51         Virginia                   39490      VA        \n",
       "20 0400000US10 10         Delaware                    1949      DE        \n",
       "21 0400000US54 54         West Virginia              24038      WV        \n",
       "22 0400000US55 55         Wisconsin                  54158      WI        \n",
       "23 0400000US56 56         Wyoming                    97093      WY        \n",
       "24 0400000US01 01         Alabama                    50645      AL        \n",
       "25 0400000US12 12         Florida                    53625      FL        \n",
       "26 0400000US16 16         Idaho                      82643      ID        \n",
       "27 0400000US20 20         Kansas                     81759      KS        \n",
       "28 0400000US24 24         Maryland                    9707      MD        \n",
       "29 0400000US34 34         New Jersey                  7354      NJ        \n",
       "30 0400000US37 37         North Carolina             48618      NC        \n",
       "31 0400000US45 45         South Carolina             30061      SC        \n",
       "32 0400000US53 53         Washington                 66456      WA        \n",
       "33 0400000US50 50         Vermont                     9217      VT        \n",
       "34 0400000US49 49         Utah                       82170      UT        \n",
       "35 0400000US19 19         Iowa                       55857      IA        \n",
       "36 0400000US21 21         Kentucky                   39486      KY        \n",
       "37 0400000US23 23         Maine                      30843      ME        \n",
       "38 0400000US25 25         Massachusetts               7800      MA        \n",
       "39 0400000US26 26         Michigan                   56539      MI        \n",
       "40 0400000US29 29         Missouri                   68742      MO        \n",
       "41 0400000US31 31         Nebraska                   76824      NE        \n",
       "42 0400000US32 32         Nevada                    109781      NV        \n",
       "43 0400000US33 33         New Hampshire               8953      NH        \n",
       "44 0400000US36 36         New York                   47126      NY        \n",
       "45 0400000US39 39         Ohio                       40861      OH        \n",
       "46 0400000US41 41         Oregon                     95988      OR        \n",
       "47 0400000US44 44         Rhode Island                1034      RI        \n",
       "48 0400000US46 46         South Dakota               75811      SD        \n",
       "49 0400000US48 48         Texas                     261232      TX        \n",
       "50 0400000US02 02         Alaska                    570641      AK        \n",
       "51 0400000US15 15         Hawaii                      6423      HI        \n",
       "   census   pop_estimataes_base pop_2010 pop_2011 pop_2012 pop_2013 pop_2014\n",
       "1   6392017  6392310             6411999  6472867  6556236  6634997  6731484\n",
       "2   2915918  2915958             2922297  2938430  2949300  2958765  2966369\n",
       "3  37253956 37254503            37336011 37701901 38062780 38431393 38802500\n",
       "4   5029196  5029324             5048575  5119661  5191709  5272086  5355866\n",
       "5   3574097  3574096             3579345  3590537  3594362  3599341  3596677\n",
       "6    601723   601767              605210   620427   635040   649111   658893\n",
       "7   9687653  9688681             9714464  9813201  9919000  9994759 10097343\n",
       "8  12830632 12831587            12840097 12858725 12873763 12890552 12880580\n",
       "9   6483802  6484192             6490308  6516560  6537632  6570713  6596855\n",
       "10  4533372  4533479             4545581  4575972  4604744  4629284  4649676\n",
       "11  5303925  5303925             5310418  5348036  5380615  5422060  5457173\n",
       "12  2967297  2968103             2970811  2978464  2986137  2992206  2994079\n",
       "13   989415   989417              990575   997661  1005163  1014864  1023579\n",
       "14  2059179  2059192             2064950  2078407  2084594  2086895  2085572\n",
       "15   672591   672591              674345   685242   701705   723857   739482\n",
       "16  3751351  3751616             3759481  3786527  3817059  3853118  3878051\n",
       "17 12702379 12702884            12711077 12743995 12770043 12781296 12787209\n",
       "18  6346105  6346275             6356628  6398389  6455177  6497269  6549352\n",
       "19  8001024  8001023             8025376  8110188  8193422  8270345  8326289\n",
       "20   897934   897936              899731   907829   916881   925240   935614\n",
       "21  1852994  1853033             1854176  1854982  1856313  1853595  1850326\n",
       "22  5686986  5687289             5689268  5708785  5724888  5742953  5757564\n",
       "23   563626   563767              564358   567631   576893   583223   584153\n",
       "24  4779736  4780127             4785822  4801695  4817484  4833996  4849377\n",
       "25 18801310 18804623            18852220 19107900 19355257 19600311 19893297\n",
       "26  1567582  1567652             1570639  1583780  1595590  1612843  1634464\n",
       "27  2853118  2853132             2858949  2869965  2885966  2895801  2904021\n",
       "28  5773552  5773785             5788101  5843833  5891819  5938737  5976407\n",
       "29  8791894  8791936             8803580  8842614  8876000  8911502  8938175\n",
       "30  9535483  9535691             9559488  9651502  9748181  9848917  9943964\n",
       "31  4625364  4625401             4636290  4673054  4722621  4771929  4832482\n",
       "32  6724540  6724543             6741911  6822112  6896325  6973742  7061530\n",
       "33   625741   625745              625792   626450   626138   626855   626562\n",
       "34  2763885  2763885             2774346  2815324  2855194  2902787  2942902\n",
       "35  3046355  3046869             3050295  3064904  3075935  3092341  3107126\n",
       "36  4339367  4339349             4349838  4370038  4383465  4399583  4413457\n",
       "37  1328361  1328361             1327361  1327930  1328592  1328702  1330089\n",
       "38  6547629  6547817             6564073  6612270  6655829  6708874  6745408\n",
       "39  9883640  9884133             9876498  9875736  9884781  9898193  9909877\n",
       "40  5988927  5988923             5996085  6010544  6025281  6044917  6063589\n",
       "41  1826341  1826341             1829865  1842232  1855487  1868969  1881503\n",
       "42  2700551  2700692             2703493  2718586  2755245  2791494  2839099\n",
       "43  1316470  1316466             1316517  1318109  1321297  1322616  1326813\n",
       "44 19378102 19378112            19400867 19521745 19607140 19695680 19746227\n",
       "45 11536504 11536725            11540070 11544757 11550901 11572005 11594163\n",
       "46  3831074  3831073             3837083  3867644  3898684  3928068  3970239\n",
       "47  1052567  1052931             1053078  1052020  1052637  1053354  1055173\n",
       "48   814180   814191              816192   824171   834504   845510   853175\n",
       "49 25145561 25146104            25245717 25657477 26094422 26505637 26956958\n",
       "50   710231   710249              713856   722572   731081   737259   736732\n",
       "51  1360301  1360301             1363950  1378251  1392766  1408987  1419561\n",
       "   geometry                      \n",
       "1  MULTIPOLYGON (((-113 37, -1...\n",
       "2  MULTIPOLYGON (((-94 33, -94...\n",
       "3  MULTIPOLYGON (((-120 34, -1...\n",
       "4  MULTIPOLYGON (((-107 41, -1...\n",
       "5  MULTIPOLYGON (((-72.4 42, -...\n",
       "6  MULTIPOLYGON (((-77 38.8, -...\n",
       "7  MULTIPOLYGON (((-84.8 35, -...\n",
       "8  MULTIPOLYGON (((-89.4 42.5,...\n",
       "9  MULTIPOLYGON (((-84.8 40.4,...\n",
       "10 MULTIPOLYGON (((-88.9 29.8,...\n",
       "11 MULTIPOLYGON (((-92.2 46.7,...\n",
       "12 MULTIPOLYGON (((-89.1 30.2,...\n",
       "13 MULTIPOLYGON (((-111 45, -1...\n",
       "14 MULTIPOLYGON (((-106 32, -1...\n",
       "15 MULTIPOLYGON (((-101 45.9, ...\n",
       "16 MULTIPOLYGON (((-100 34.7, ...\n",
       "17 MULTIPOLYGON (((-79.5 39.7,...\n",
       "18 MULTIPOLYGON (((-83.5 36.6,...\n",
       "19 MULTIPOLYGON (((-75.2 38, -...\n",
       "20 MULTIPOLYGON (((-75.6 39.6,...\n",
       "21 MULTIPOLYGON (((-78.6 39, -...\n",
       "22 MULTIPOLYGON (((-90.5 47, -...\n",
       "23 MULTIPOLYGON (((-104 43.9, ...\n",
       "24 MULTIPOLYGON (((-88.1 30.3,...\n",
       "25 MULTIPOLYGON (((-80.3 25.3,...\n",
       "26 MULTIPOLYGON (((-111 44.5, ...\n",
       "27 MULTIPOLYGON (((-99.5 37, -...\n",
       "28 MULTIPOLYGON (((-76 38.1, -...\n",
       "29 MULTIPOLYGON (((-74.9 40.1,...\n",
       "30 MULTIPOLYGON (((-75.8 35.2,...\n",
       "31 MULTIPOLYGON (((-82.2 35.2,...\n",
       "32 MULTIPOLYGON (((-122 47.9, ...\n",
       "33 MULTIPOLYGON (((-72.5 42.7,...\n",
       "34 MULTIPOLYGON (((-111 42, -1...\n",
       "35 MULTIPOLYGON (((-91.2 43, -...\n",
       "36 MULTIPOLYGON (((-89.5 36.5,...\n",
       "37 MULTIPOLYGON (((-69.3 43.8,...\n",
       "38 MULTIPOLYGON (((-70.8 41.6,...\n",
       "39 MULTIPOLYGON (((-85.6 45.8,...\n",
       "40 MULTIPOLYGON (((-89.5 36.3,...\n",
       "41 MULTIPOLYGON (((-104 41.7, ...\n",
       "42 MULTIPOLYGON (((-114 40.1, ...\n",
       "43 MULTIPOLYGON (((-70.8 43.1,...\n",
       "44 MULTIPOLYGON (((-73.8 40.9,...\n",
       "45 MULTIPOLYGON (((-82.7 41.6,...\n",
       "46 MULTIPOLYGON (((-122 45.7, ...\n",
       "47 MULTIPOLYGON (((-71.4 41.5,...\n",
       "48 MULTIPOLYGON (((-104 43.9, ...\n",
       "49 MULTIPOLYGON (((-96.8 28.1,...\n",
       "50 MULTIPOLYGON (((-114 22.4, ...\n",
       "51 MULTIPOLYGON (((-102 25.4, ..."
      ]
     },
     "metadata": {},
     "output_type": "display_data"
    }
   ],
   "source": [
    "usa_sf()"
   ]
  },
  {
   "cell_type": "code",
   "execution_count": 46,
   "metadata": {},
   "outputs": [
    {
     "data": {
      "image/png": "[encoded data removed]",
      "text/plain": [
       "plot without title"
      ]
     },
     "metadata": {},
     "output_type": "display_data"
    }
   ],
   "source": [
    "ggplot(data = usa_sf()) +\n",
    "  geom_sf()"
   ]
  },
  {
   "cell_type": "code",
   "execution_count": 57,
   "metadata": {},
   "outputs": [
    {
     "data": {
      "image/png": "[encoded data removed]",
      "text/plain": [
       "plot without title"
      ]
     },
     "metadata": {},
     "output_type": "display_data"
    }
   ],
   "source": [
    "gg<-ggplot(data=population, aes(x=Name, y=Size)) +\n",
    "  geom_bar(stat=\"identity\") +\n",
    "  theme(axis.text.x=element_text(angle=90,hjust=1,vjust=0.5))\n",
    "gg"
   ]
  },
  {
   "cell_type": "code",
   "execution_count": 58,
   "metadata": {},
   "outputs": [
    {
     "data": {
      "image/png": "[encoded data removed]",
      "text/plain": [
       "plot without title"
      ]
     },
     "metadata": {},
     "output_type": "display_data"
    }
   ],
   "source": [
    "gg<-ggplot(data=population, aes(x=Name, y=Size)) +\n",
    "  geom_bar(stat=\"identity\", fill=\"steelblue\") +\n",
    "  theme(axis.text.x=element_text(angle=90,hjust=1,vjust=0.5))\n",
    "gg"
   ]
  },
  {
   "cell_type": "code",
   "execution_count": 59,
   "metadata": {},
   "outputs": [
    {
     "data": {
      "image/png": "[encoded data removed]",
      "text/plain": [
       "plot without title"
      ]
     },
     "metadata": {},
     "output_type": "display_data"
    }
   ],
   "source": [
    "gg<-ggplot(data=population, aes(x=Name, y=Size)) +\n",
    "  geom_bar(stat=\"identity\", color=\"blue\", fill=\"white\") +\n",
    "  theme(axis.text.x=element_text(angle=90,hjust=1,vjust=0.5))\n",
    "gg"
   ]
  },
  {
   "cell_type": "code",
   "execution_count": null,
   "metadata": {},
   "outputs": [],
   "source": []
  }
 ],
 "metadata": {
  "kernelspec": {
   "display_name": "R",
   "language": "R",
   "name": "ir"
  },
  "language_info": {
   "codemirror_mode": "r",
   "file_extension": ".r",
   "mimetype": "text/x-r-source",
   "name": "R",
   "pygments_lexer": "r",
   "version": "3.6.1"
  }
 },
 "nbformat": 4,
 "nbformat_minor": 2
}
